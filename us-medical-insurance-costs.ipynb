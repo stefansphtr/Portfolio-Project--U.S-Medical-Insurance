{
 "cells": [
  {
   "cell_type": "markdown",
   "metadata": {},
   "source": [
    "# Project Medical Insurance Costs\n",
    "\n",
    "- Name: Stefanus Bernard Melkisedek\n",
    "- Codecademy profile: https://www.codecademy.com/profiles/DatenMeister\n",
    "- Email: stefanussipahutar@gmail.com\n"
   ]
  },
  {
   "cell_type": "markdown",
   "metadata": {},
   "source": [
    "## Project Description\n",
    "\n",
    "Project Medical Insurance Costs is a **portfolio project** from **Codecademy** **Data Science Career Path**. This project is a part of Data Science Foundation path that uses Python to analyze data from a CSV file.The data is about the medical insurance costs of a person.\n",
    "\n",
    "The data **insurance.csv** contains the following columns:\n",
    "\n",
    "- age: Patient age in years.\n",
    "- sex: Patient gender (female or male).\n",
    "- bmi: Patient body mass index.\n",
    "- children: Patient number of children covered by health insurance.\n",
    "- smoker: Patient smoking status (yes or no).\n",
    "- region: Patient U.S Geopraphical Region: northeast, southeast, southwest, northwest.\n",
    "- charges: Patient Yearly Medical Insurance Cost.\n"
   ]
  },
  {
   "cell_type": "markdown",
   "metadata": {},
   "source": [
    "## Project Goals\n",
    "\n",
    "The goals of this project are:\n",
    "\n",
    "- To analyze the data using Python by building out functions or class methods.\n",
    "- To find out the average age of the patients in the dataset.\n",
    "- To find out the number of each sex comprised in the dataset.\n",
    "- To find out the geographical location of the patients in the dataset.\n",
    "- To find out the average medical insurance costs of the patients in the dataset.\n",
    "- Create a dictionary that contains all patient information.\n",
    "- To estimate the medical insurance costs for a new patient with regression analysis.\n"
   ]
  },
  {
   "cell_type": "code",
   "execution_count": null,
   "metadata": {},
   "outputs": [],
   "source": [
    "# import necessary library\n",
    "import csv"
   ]
  },
  {
   "cell_type": "markdown",
   "metadata": {},
   "source": [
    "To start, all necessary libraries must be imported. For this project the only library needed is the `csv` library in order to work with the **insurance.csv** data. There are other potential libraries that could help with this project; however, for this analysis, using just the `csv` library will suffice.\n"
   ]
  },
  {
   "cell_type": "markdown",
   "metadata": {},
   "source": [
    "The next step is to look through **insurance.csv** in order to get aquanted with the data. The following aspects of the data file will be checked in order to plan out how to import the data into a Python file:\n",
    "\n",
    "- The names of columns and rows\n",
    "- Any noticeable missing data\n",
    "- Types of values (numerical vs. categorical)\n"
   ]
  },
  {
   "cell_type": "code",
   "execution_count": null,
   "metadata": {},
   "outputs": [],
   "source": [
    "# Create variables to hold each feature of insurance.csv\n",
    "ages = []\n",
    "sexes = []\n",
    "bmis = []\n",
    "num_of_children = []\n",
    "smokers = []\n",
    "regions = []\n",
    "insurance_costs = []"
   ]
  },
  {
   "cell_type": "markdown",
   "metadata": {},
   "source": [
    "<p align=\"center\">\n",
    "    <img src=\"./src/assets/dataset.png\" alt=\"dataset\" width=\"750px\">\n",
    "</p>\n",
    "\n",
    "Based on the image preview of the dataset using data-wrangler, we can conclude that:\n",
    "\n",
    "There are no signs of missing data. To store this information, seven empty lists will be created hold each individual column of data from **insurance.csv**.\n"
   ]
  },
  {
   "cell_type": "code",
   "execution_count": null,
   "metadata": {},
   "outputs": [],
   "source": [
    "# helper function to load csv data\n",
    "def load_list_data(lst, csv_file, column_name):\n",
    "    # open csv file\n",
    "    with open(csv_file) as csv_info:\n",
    "        # read the data from the csv file\n",
    "        csv_dict = csv.DictReader(csv_info)\n",
    "        # loop through the data in each row of the csv\n",
    "        for row in csv_dict:\n",
    "            # add the data from each row to a list\n",
    "            lst.append(row[column_name])\n",
    "        # return the list\n",
    "        return lst"
   ]
  },
  {
   "cell_type": "markdown",
   "metadata": {},
   "source": [
    "The helper function above was created to make loading data into the lists as efficient as possible. Without this function, one would have to open **insurance.csv** and rewrite the `for` loop seven times; however, with this function, one can simply call `load_list_data()` each time as shown below.\n"
   ]
  },
  {
   "cell_type": "markdown",
   "metadata": {},
   "source": [
    "---\n",
    "\n",
    "## Understanding `.gitattributes`\n",
    "\n",
    "The `.gitattributes` file is a simple text file that gives attributes to pathnames. Each line in the `.gitattributes` file is a pattern followed by an attribute specification. It's placed in the root directory of a repository or in any subdirectory (the latter being useful for applying attributes to only a subset of the repository). The file is committed into the repository and versioned like any other file.\n",
    "\n",
    "In our case, the `.gitattributes` file contains the following lines:\n",
    "\n",
    "```properties\n",
    "*.ipynb filter=nbstripout\n",
    "*.zpln filter=nbstripout\n",
    "*.ipynb diff=ipynb\n",
    "* text=auto eol=lf\n",
    "```\n",
    "\n",
    "Here's what each line does:\n",
    "\n",
    "- `*.ipynb filter=nbstripout` and `*.zpln filter=nbstripout`: These lines tell Git to use the `nbstripout` filter for files ending in `.ipynb` and `.zpln`. `nbstripout` is a tool that strips output from Jupyter notebooks. This is useful because it allows you to commit only the code changes in your notebooks, not the output. This can make your commits cleaner and easier to understand.\n",
    "\n",
    "- `*.ipynb diff=ipynb`: This line tells Git to use the `ipynb` diff tool when comparing changes in `.ipynb` files. This can make diffs of Jupyter notebooks more meaningful, as it understands the structure of notebook files.\n",
    "\n",
    "- `* text=auto eol=lf`: This line tells Git to normalize all text files to use LF (Unix-style) line endings. This can help prevent issues with line endings differing between Windows and Unix systems, making your code more consistent and easier to work with across different platforms.\n",
    "\n",
    "In summary, the `.gitattributes` file in this repository is used to improve the handling of Jupyter notebooks and line endings in Git.\n"
   ]
  }
 ],
 "metadata": {
  "kernelspec": {
   "display_name": "Python 3",
   "language": "python",
   "name": "python3"
  },
  "language_info": {
   "codemirror_mode": {
    "name": "ipython",
    "version": 3
   },
   "file_extension": ".py",
   "mimetype": "text/x-python",
   "name": "python",
   "nbconvert_exporter": "python",
   "pygments_lexer": "ipython3",
   "version": "3.11.7"
  }
 },
 "nbformat": 4,
 "nbformat_minor": 2
}
