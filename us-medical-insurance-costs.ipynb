{
 "cells": [
  {
   "cell_type": "markdown",
   "metadata": {},
   "source": [
    "# Project Medical Insurance Costs\n",
    "\n",
    "- Name: Stefanus Bernard Melkisedek\n",
    "- Codecademy profile: https://www.codecademy.com/profiles/DatenMeister\n",
    "- Email: stefanussipahutar@gmail.com\n"
   ]
  },
  {
   "cell_type": "markdown",
   "metadata": {},
   "source": [
    "## Project Description\n",
    "\n",
    "Project Medical Insurance Costs is a **portfolio project** from **Codecademy** **Data Science Career Path**. This project is a part of Data Science Foundation path that uses Python to analyze data from a CSV file.The data is about the medical insurance costs of a person.\n",
    "\n",
    "The data **insurance.csv** contains the following columns:\n",
    "\n",
    "- age: Patient age in years.\n",
    "- sex: Patient gender (female or male).\n",
    "- bmi: Patient body mass index.\n",
    "- children: Patient number of children covered by health insurance.\n",
    "- smoker: Patient smoking status (yes or no).\n",
    "- region: Patient U.S Geopraphical Region: northeast, southeast, southwest, northwest.\n",
    "- charges: Patient Yearly Medical Insurance Cost.\n"
   ]
  },
  {
   "cell_type": "markdown",
   "metadata": {},
   "source": [
    "## Project Goals\n",
    "\n",
    "The goals of this project are:\n",
    "\n",
    "- To analyze the data using Python by building out functions or class methods.\n",
    "- To find out the average age of the patients in the dataset.\n",
    "- To find out the number of each sex comprised in the dataset.\n",
    "- To find out the geographical location of the patients in the dataset.\n",
    "- To find out the average medical insurance costs of the patients in the dataset.\n",
    "- Create a dictionary that contains all patient information.\n",
    "- To estimate the medical insurance costs for a new patient with regression analysis.\n"
   ]
  },
  {
   "cell_type": "code",
   "execution_count": null,
   "metadata": {},
   "outputs": [],
   "source": [
    "# import necessary library\n",
    "import csv"
   ]
  },
  {
   "cell_type": "markdown",
   "metadata": {},
   "source": [
    "To start, all necessary libraries must be imported. For this project the only library needed is the `csv` library in order to work with the **insurance.csv** data. There are other potential libraries that could help with this project; however, for this analysis, using just the `csv` library will suffice.\n"
   ]
  },
  {
   "cell_type": "markdown",
   "metadata": {},
   "source": [
    "The next step is to look through **insurance.csv** in order to get aquanted with the data. The following aspects of the data file will be checked in order to plan out how to import the data into a Python file:\n",
    "\n",
    "- The names of columns and rows\n",
    "- Any noticeable missing data\n",
    "- Types of values (numerical vs. categorical)\n"
   ]
  },
  {
   "cell_type": "code",
   "execution_count": null,
   "metadata": {},
   "outputs": [],
   "source": [
    "# Create variables to hold each feature of insurance.csv\n",
    "ages = []\n",
    "sexes = []\n",
    "bmis = []\n",
    "num_of_children = []\n",
    "smoker_status = []\n",
    "regions = []\n",
    "insurance_costs = []"
   ]
  },
  {
   "cell_type": "markdown",
   "metadata": {},
   "source": [
    "<p align=\"center\">\n",
    "    <img src=\"./src/assets/dataset.png\" alt=\"dataset\" width=\"750px\">\n",
    "</p>\n",
    "\n",
    "Based on the image preview of the dataset using data-wrangler, we can conclude that:\n",
    "\n",
    "There are no signs of missing data. To store this information, seven empty lists will be created hold each individual column of data from **insurance.csv**.\n"
   ]
  },
  {
   "cell_type": "code",
   "execution_count": null,
   "metadata": {},
   "outputs": [],
   "source": [
    "# helper function to load csv data\n",
    "def load_list_data(lst, csv_file, column_name):\n",
    "    # open csv file\n",
    "    with open(csv_file) as csv_info:\n",
    "        # read the data from the csv file\n",
    "        csv_dict = csv.DictReader(csv_info)\n",
    "        # loop through the data in each row of the csv\n",
    "        for row in csv_dict:\n",
    "            # add the data from each row to a list\n",
    "            lst.append(row[column_name])\n",
    "        # return the list\n",
    "        return lst"
   ]
  },
  {
   "cell_type": "markdown",
   "metadata": {},
   "source": [
    "The helper function above was created to make loading data into the lists as efficient as possible. Without this function, one would have to open **insurance.csv** and rewrite the `for` loop seven times; however, with this function, one can simply call `load_list_data()` each time as shown below.\n"
   ]
  },
  {
   "cell_type": "code",
   "execution_count": null,
   "metadata": {},
   "outputs": [],
   "source": [
    "# look at the data in insurance_csv_dict\n",
    "load_list_data(ages, \"./src/data/insurance.csv\", \"age\")\n",
    "load_list_data(sexes, \"./src/data/insurance.csv\", \"sex\")\n",
    "load_list_data(bmis, \"./src/data/insurance.csv\", \"bmi\")\n",
    "load_list_data(num_of_children, \"./src/data/insurance.csv\", \"children\")\n",
    "load_list_data(smoker_status, \"./src/data/insurance.csv\", \"smoker\")\n",
    "load_list_data(regions, \"./src/data/insurance.csv\", \"region\")\n",
    "load_list_data(insurance_costs, \"./src/data/insurance.csv\", \"charges\")"
   ]
  },
  {
   "cell_type": "markdown",
   "metadata": {},
   "source": [
    "Now that all the data from **insurance.csv** neatly organized into labeled lists, the analysis can be started. This is where one must plan out what to investigate and how to perform the analysis. There are many aspects of the data that could be looked into. The following operations will be implemented:\n",
    "\n",
    "- find average age of the patients\n",
    "- return the number of males vs. females counted in the dataset\n",
    "- find geographical location of the patients\n",
    "- return the average yearly medical charges of the patients\n",
    "- creating a dictionary that contains all patient information\n",
    "\n",
    "To perform these inspections, a class called `PatientsInfo` has been built out which contains fives methods:\n",
    "\n",
    "- `analyze_ages()`\n",
    "- `analyze_sexes()`\n",
    "- `unique_regions()`\n",
    "- `average_charges()`\n",
    "- `create_dictionary()`\n",
    "\n",
    "The class has been built out below.\n"
   ]
  },
  {
   "cell_type": "code",
   "execution_count": null,
   "metadata": {},
   "outputs": [],
   "source": [
    "class PatientsInfo:\n",
    "    # init method that takes in each list parameter\n",
    "    def __init__(\n",
    "        self,\n",
    "        patients_ages,\n",
    "        patients_sexes,\n",
    "        patients_bmis,\n",
    "        patients_num_children,\n",
    "        patients_smoker_statuses,\n",
    "        patients_regions,\n",
    "        patients_charges,\n",
    "    ):\n",
    "        self.patients_ages = patients_ages\n",
    "        self.patients_sexes = patients_sexes\n",
    "        self.patients_bmis = patients_bmis\n",
    "        self.patients_num_children = patients_num_children\n",
    "        self.patients_smoker_statuses = patients_smoker_statuses\n",
    "        self.patients_regions = patients_regions\n",
    "        self.patients_charges = patients_charges\n",
    "\n",
    "    # method that calculates the average ages of the patients in insurance.csv\n",
    "    def analyze_ages(self):\n",
    "        # initialize total age at zero\n",
    "        total_age = 0\n",
    "        # iterate through all ages in the ages list\n",
    "        for age in self.patients_ages:\n",
    "            # sum of the total age\n",
    "            total_age += int(age)\n",
    "        # return total age divided by the length of the patient list\n",
    "        return (\n",
    "            \"Average Patient Age: \"\n",
    "            + str(round(total_age / len(self.patients_ages), 2))\n",
    "            + \" years\"\n",
    "        )\n",
    "\n",
    "    # method that calculates the number of males and females in insurance.csv\n",
    "    def analyze_sexes(self):\n",
    "        # initialize number of males and females to zero\n",
    "        females = 0\n",
    "        males = 0\n",
    "        # iterate through each sex in the sexes list\n",
    "        for sex in self.patients_sexes:\n",
    "            # if female add to female variable\n",
    "            if sex == \"female\":\n",
    "                females += 1\n",
    "            # if male add to male variable\n",
    "            elif sex == \"male\":\n",
    "                males += 1\n",
    "        # print out the number of each\n",
    "        print(\"Count for female: \", females)\n",
    "        print(\"Count for male: \", males)\n",
    "\n",
    "    # method to find each unique region patients are from\n",
    "    def unique_regions(self):\n",
    "        # initialize empty list\n",
    "        unique_regions = []\n",
    "        # iterate through each region in regions list\n",
    "        for region in self.patients_regions:\n",
    "            # if the region is not already in the unique regions list\n",
    "            # then add it to the unique regions list\n",
    "            if region not in unique_regions:\n",
    "                unique_regions.append(region)\n",
    "        # return unique regions list\n",
    "        return unique_regions\n",
    "\n",
    "    # method to find average yearly medical charges for patients in insurance.csv\n",
    "    def average_charges(self):\n",
    "        # initialize total_charges variable\n",
    "        total_charges = 0\n",
    "        # iterate through charges in patients charges list\n",
    "        # add each charge to total_charge\n",
    "        for charge in self.patients_charges:\n",
    "            total_charges += float(charge)\n",
    "        # return the average charges rounded to the hundredths place\n",
    "        return (\n",
    "            \"Average Yearly Medical Insurance Charges: \"\n",
    "            + str(round(total_charges / len(self.patients_charges), 2))\n",
    "            + \" dollars.\"\n",
    "        )\n",
    "\n",
    "    # method to create dictionary with all patients information\n",
    "    def create_dictionary(self):\n",
    "        self.patients_dictionary = {}\n",
    "        self.patients_dictionary[\"age\"] = [int(age) for age in self.patients_ages]\n",
    "        self.patients_dictionary[\"sex\"] = self.patients_sexes\n",
    "        self.patients_dictionary[\"bmi\"] = self.patients_bmis\n",
    "        self.patients_dictionary[\"children\"] = self.patients_num_children\n",
    "        self.patients_dictionary[\"smoker\"] = self.patients_smoker_statuses\n",
    "        self.patients_dictionary[\"regions\"] = self.patients_regions\n",
    "        self.patients_dictionary[\"charges\"] = self.patients_charges\n",
    "        return self.patients_dictionary"
   ]
  },
  {
   "cell_type": "markdown",
   "metadata": {},
   "source": [
    "---\n",
    "\n",
    "## Understanding `.gitattributes`\n",
    "\n",
    "The `.gitattributes` file is a simple text file that gives attributes to pathnames. Each line in the `.gitattributes` file is a pattern followed by an attribute specification. It's placed in the root directory of a repository or in any subdirectory (the latter being useful for applying attributes to only a subset of the repository). The file is committed into the repository and versioned like any other file.\n",
    "\n",
    "In our case, the `.gitattributes` file contains the following lines:\n",
    "\n",
    "```properties\n",
    "*.ipynb filter=nbstripout\n",
    "*.zpln filter=nbstripout\n",
    "*.ipynb diff=ipynb\n",
    "* text=auto eol=lf\n",
    "```\n",
    "\n",
    "Here's what each line does:\n",
    "\n",
    "- `*.ipynb filter=nbstripout` and `*.zpln filter=nbstripout`: These lines tell Git to use the `nbstripout` filter for files ending in `.ipynb` and `.zpln`. `nbstripout` is a tool that strips output from Jupyter notebooks. This is useful because it allows you to commit only the code changes in your notebooks, not the output. This can make your commits cleaner and easier to understand.\n",
    "\n",
    "- `*.ipynb diff=ipynb`: This line tells Git to use the `ipynb` diff tool when comparing changes in `.ipynb` files. This can make diffs of Jupyter notebooks more meaningful, as it understands the structure of notebook files.\n",
    "\n",
    "- `* text=auto eol=lf`: This line tells Git to normalize all text files to use LF (Unix-style) line endings. This can help prevent issues with line endings differing between Windows and Unix systems, making your code more consistent and easier to work with across different platforms.\n",
    "\n",
    "In summary, the `.gitattributes` file in this repository is used to improve the handling of Jupyter notebooks and line endings in Git.\n"
   ]
  }
 ],
 "metadata": {
  "kernelspec": {
   "display_name": "Python 3",
   "language": "python",
   "name": "python3"
  },
  "language_info": {
   "codemirror_mode": {
    "name": "ipython",
    "version": 3
   },
   "file_extension": ".py",
   "mimetype": "text/x-python",
   "name": "python",
   "nbconvert_exporter": "python",
   "pygments_lexer": "ipython3",
   "version": "3.11.7"
  }
 },
 "nbformat": 4,
 "nbformat_minor": 2
}
