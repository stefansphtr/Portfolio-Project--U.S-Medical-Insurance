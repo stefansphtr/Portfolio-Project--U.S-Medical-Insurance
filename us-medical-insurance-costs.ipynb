{
 "cells": [
  {
   "cell_type": "markdown",
   "metadata": {},
   "source": [
    "# Project Medical Insurance Costs\n",
    "\n",
    "- Name: Stefanus Bernard Melkisedek\n",
    "- Codecademy profile: https://www.codecademy.com/profiles/DatenMeister\n",
    "- Email: stefanussipahutar@gmail.com\n"
   ]
  },
  {
   "cell_type": "markdown",
   "metadata": {},
   "source": [
    "## Project Description\n",
    "\n",
    "Project Medical Insurance Costs is a **portfolio project** from **Codecademy** **Data Science Career Path**. This project is a part of Data Science Foundation path that uses Python to analyze data from a CSV file.The data is about the medical insurance costs of a person.\n",
    "\n",
    "The data **insurance.csv** contains the following columns:\n",
    "\n",
    "- age: Patient age in years.\n",
    "- sex: Patient gender (female or male).\n",
    "- bmi: Patient body mass index.\n",
    "- children: Patient number of children covered by health insurance.\n",
    "- smoker: Patient smoking status (yes or no).\n",
    "- region: Patient U.S Geopraphical Region: northeast, southeast, southwest, northwest.\n",
    "- charges: Patient Yearly Medical Insurance Cost.\n"
   ]
  },
  {
   "cell_type": "markdown",
   "metadata": {},
   "source": [
    "## Project Goals\n",
    "\n",
    "The goals of this project are:\n",
    "\n",
    "- To analyze the data using Python by building out functions or class methods.\n",
    "- To find out the average age of the patients in the dataset.\n",
    "- To find out the number of each sex comprised in the dataset.\n",
    "- To find out the geographical location of the patients in the dataset.\n",
    "- To find out the average medical insurance costs of the patients in the dataset.\n",
    "- Create a dictionary that contains all patient information.\n",
    "- To estimate the medical insurance costs for a new patient with regression analysis.\n"
   ]
  },
  {
   "cell_type": "code",
   "execution_count": null,
   "metadata": {},
   "outputs": [],
   "source": [
    "# import necessary library\n",
    "import csv"
   ]
  },
  {
   "cell_type": "markdown",
   "metadata": {},
   "source": [
    "To start, all necessary libraries must be imported. For this project the only library needed is the `csv` library in order to work with the **insurance.csv** data. There are other potential libraries that could help with this project; however, for this analysis, using just the `csv` library will suffice.\n"
   ]
  },
  {
   "cell_type": "markdown",
   "metadata": {},
   "source": [
    "The next step is to look through **insurance.csv** in order to get aquanted with the data. The following aspects of the data file will be checked in order to plan out how to import the data into a Python file:\n",
    "\n",
    "- The names of columns and rows\n",
    "- Any noticeable missing data\n",
    "- Types of values (numerical vs. categorical)\n"
   ]
  },
  {
   "cell_type": "code",
   "execution_count": 1,
   "metadata": {},
   "outputs": [],
   "source": [
    "# Create variables to hold each feature of insurance.csv\n",
    "ages = []\n",
    "sexes = []\n",
    "bmis = []\n",
    "num_of_children = []\n",
    "smokers = []\n",
    "regions = []\n",
    "insurance_costs = []"
   ]
  }
 ],
 "metadata": {
  "kernelspec": {
   "display_name": "Python 3",
   "language": "python",
   "name": "python3"
  },
  "language_info": {
   "codemirror_mode": {
    "name": "ipython",
    "version": 3
   },
   "file_extension": ".py",
   "mimetype": "text/x-python",
   "name": "python",
   "nbconvert_exporter": "python",
   "pygments_lexer": "ipython3",
   "version": "3.11.7"
  }
 },
 "nbformat": 4,
 "nbformat_minor": 2
}
